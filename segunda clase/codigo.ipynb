{
  "nbformat": 4,
  "nbformat_minor": 0,
  "metadata": {
    "colab": {
      "provenance": [],
      "authorship_tag": "ABX9TyMTJxX0w4NMpK964jAPZu7F",
      "include_colab_link": true
    },
    "kernelspec": {
      "name": "python3",
      "display_name": "Python 3"
    },
    "language_info": {
      "name": "python"
    }
  },
  "cells": [
    {
      "cell_type": "markdown",
      "metadata": {
        "id": "view-in-github",
        "colab_type": "text"
      },
      "source": [
        "<a href=\"https://colab.research.google.com/github/juanqwerty773/labo-2/blob/main/segunda%20clase/codigo.ipynb\" target=\"_parent\"><img src=\"https://colab.research.google.com/assets/colab-badge.svg\" alt=\"Open In Colab\"/></a>"
      ]
    },
    {
      "cell_type": "code",
      "source": [
        "import pandas as pd\n",
        "!git clone https://github.com/juanqwerty773/labo-2.git\n",
        "%cd labo-2\n",
        "df = pd.read_csv(\"segunda clase/segundaClase(29_08) - Hoja 2.csv\")\n",
        "df.head()\n"
      ],
      "metadata": {
        "id": "P71ty-r4TCPc"
      },
      "execution_count": null,
      "outputs": []
    },
    {
      "cell_type": "code",
      "source": [
        "tb = df\n",
        "\n",
        "tb['hertz_osci_emi_(kHz)'] = tb['hertz_osci_emi_(kHz)'].str.replace(',', '.', regex=False)\n",
        "tb['Vpp_rec_(mV)'] = tb['Vpp_rec_(mV)'].str.replace(',','.', regex=False)\n",
        "tb['error_Vpp_rec(mV)'] = tb['error_Vpp_rec(mV)'].str.replace(',','.', regex=False)\n",
        "tb['error_Vpp_rec(mV)'] = pd.to_numeric(tb['error_Vpp_rec(mV)'], errors='coerce')\n",
        "tb['hertz_osci_emi_(kHz)'] = pd.to_numeric(tb['hertz_osci_emi_(kHz)'], errors='coerce')\n",
        "tb['Vpp_rec_(mV)'] = pd.to_numeric(tb['Vpp_rec_(mV)'], errors='coerce')\n"
      ],
      "metadata": {
        "id": "sW_RIBv6UW8U"
      },
      "execution_count": null,
      "outputs": []
    },
    {
      "cell_type": "code",
      "execution_count": null,
      "metadata": {
        "id": "NXlQCgMESY_P"
      },
      "outputs": [],
      "source": [
        "import numpy as np\n",
        "import matplotlib.pyplot as plt\n",
        "from scipy.optimize import curve_fit\n",
        "\n",
        "# ------------------------------\n",
        "# Función de Cauchy (a ajustar)\n",
        "def cauchy(x, x0, gamma, A):\n",
        "    return A / (np.pi * gamma * (1 + ((x - x0) / gamma)**2))\n",
        "\n",
        "# ------------------------------\n",
        "# Datos de ejemplo (simulados)\n",
        "x_data = np.linspace(-10, 10, 50)\n",
        "true_params = (0, 2, 10)  # x0, gamma, A\n",
        "y_data = cauchy(x_data, *true_params) + np.random.normal(0, 0.2, size=len(x_data))\n",
        "error_y = np.full_like(x_data, 0.2)  # errores constantes\n",
        "\n",
        "# ------------------------------\n",
        "# Ajuste con curve_fit\n",
        "popt, pcov = curve_fit(cauchy, x_data, y_data, sigma=error_y, absolute_sigma=True)\n",
        "x0_fit, gamma_fit, A_fit = popt\n",
        "\n",
        "# ------------------------------\n",
        "# Graficar resultados\n",
        "x_fit = np.linspace(-10, 10, 1000)\n",
        "y_fit = cauchy(x_fit, *popt)\n",
        "\n",
        "plt.errorbar(x_data, y_data, yerr=error_y, fmt='o', label='Datos')\n",
        "plt.plot(x_fit, y_fit, 'r-', label='Ajuste Cauchy')\n",
        "plt.title('Ajuste de datos con función de Cauchy')\n",
        "plt.xlabel('x')\n",
        "plt.ylabel('f(x)')\n",
        "plt.legend()\n",
        "plt.grid(True)\n",
        "plt.show()\n",
        "\n",
        "# Mostrar parámetros ajustados\n",
        "print(f'Parámetros ajustados:\\n x0 = {x0_fit:.3f}\\n gamma = {gamma_fit:.3f}\\n A = {A_fit:.3f}')\n"
      ]
    }
  ]
}