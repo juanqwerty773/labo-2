{
  "nbformat": 4,
  "nbformat_minor": 0,
  "metadata": {
    "colab": {
      "provenance": [],
      "authorship_tag": "ABX9TyPDqLtYOQGCdsNywZhYpFSL",
      "include_colab_link": true
    },
    "kernelspec": {
      "name": "python3",
      "display_name": "Python 3"
    },
    "language_info": {
      "name": "python"
    }
  },
  "cells": [
    {
      "cell_type": "markdown",
      "metadata": {
        "id": "view-in-github",
        "colab_type": "text"
      },
      "source": [
        "<a href=\"https://colab.research.google.com/github/juanqwerty773/labo-2/blob/main/codigo.ipynb\" target=\"_parent\"><img src=\"https://colab.research.google.com/assets/colab-badge.svg\" alt=\"Open In Colab\"/></a>"
      ]
    },
    {
      "cell_type": "code",
      "execution_count": null,
      "metadata": {
        "id": "pO1pR6Oio89_"
      },
      "outputs": [],
      "source": [
        "# Clona el repositorio\n",
        "!git clone https://github.com/usuario/repositorio.git\n",
        "\n",
        "# Cambia al directorio del repositorio\n",
        "%cd repositorio\n",
        "\n",
        "# Ya puedes importar archivos o ejecutar scripts\n"
      ]
    }
  ]
}